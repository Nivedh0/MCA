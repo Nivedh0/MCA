{
 "cells": [
  {
   "cell_type": "code",
   "execution_count": 1,
   "id": "4a35823a",
   "metadata": {},
   "outputs": [
    {
     "name": "stdout",
     "output_type": "stream",
     "text": [
      "Accuracy: 0.9473684210526315\n"
     ]
    }
   ],
   "source": [
    "from sklearn.datasets import load_iris\n",
    "from sklearn.model_selection import train_test_split\n",
    "from sklearn.naive_bayes import GaussianNB\n",
    "\n",
    "iris=load_iris()\n",
    "x_train,x_test,y_train,y_test=train_test_split(iris.data,iris.target,test_size=0.25)\n",
    "\n",
    "#create a gaussian nb classifier\n",
    "gnb=GaussianNB()\n",
    "\n",
    "#train the model using training set \n",
    "gnb.fit(x_train,y_train)\n",
    "\n",
    "#predict the response for test data set\n",
    "y_predict=gnb.predict(x_test)\n",
    "\n",
    "\n",
    "#import metrics module for accuracy calculation\n",
    "from sklearn import metrics\n",
    "print(\"Accuracy:\",metrics.accuracy_score(y_test,y_predict))"
   ]
  },
  {
   "cell_type": "code",
   "execution_count": 13,
   "id": "082fe594",
   "metadata": {},
   "outputs": [
    {
     "name": "stdout",
     "output_type": "stream",
     "text": [
      "1.0\n",
      "Accuracy: 100.00%\n"
     ]
    }
   ],
   "source": [
    "#naive bayes\n",
    "import numpy as np\n",
    "from sklearn import datasets,metrics\n",
    "from sklearn.model_selection import train_test_split\n",
    "from sklearn.naive_bayes import GaussianNB\n",
    "from sklearn.metrics import accuracy_score\n",
    "\n",
    "#load the iris dataset\n",
    "iris=datasets.load_iris()\n",
    "X=iris.data\n",
    "y=iris.target\n",
    "#split the data into training and testing sets(80% training,20% testing)\n",
    "X_train,X_test,y_train,y_test=train_test_split(X,y,test_size=0.2,random_state=42)\n",
    "\n",
    "#create a Gaussian Naive Bayes classifier\n",
    "nb_classifier=GaussianNB()\n",
    "\n",
    "#Train the classifier using the train data\n",
    "nb_classifier.fit(X_train,y_train)\n",
    "\n",
    "#make predictions on the testing data\n",
    "y_pred=nb_classifier.predict(X_test)\n",
    "\n",
    "#calculate the accuracy of the classifier\n",
    "accuracy=accuracy_score(y_test,y_pred)\n",
    "print(accuracy)\n",
    "print(f\"Accuracy: {accuracy*100:.2f}%\")"
   ]
  },
  {
   "cell_type": "code",
   "execution_count": 19,
   "id": "491f71af",
   "metadata": {},
   "outputs": [
    {
     "name": "stdout",
     "output_type": "stream",
     "text": [
      "confusion_matrix \n",
      " [[10  0  0]\n",
      " [ 0  9  0]\n",
      " [ 0  0 11]]\n",
      "Classification_report \n",
      "               precision    recall  f1-score   support\n",
      "\n",
      "           0       1.00      1.00      1.00        10\n",
      "           1       1.00      1.00      1.00         9\n",
      "           2       1.00      1.00      1.00        11\n",
      "\n",
      "    accuracy                           1.00        30\n",
      "   macro avg       1.00      1.00      1.00        30\n",
      "weighted avg       1.00      1.00      1.00        30\n",
      "\n",
      "Accuracy:\n",
      " 1.0\n"
     ]
    }
   ],
   "source": [
    "#naive bayes\n",
    "import numpy as np\n",
    "from sklearn import datasets,metrics\n",
    "from sklearn.model_selection import train_test_split\n",
    "from sklearn.naive_bayes import GaussianNB\n",
    "from sklearn.metrics import accuracy_score,confusion_matrix,classification_report\n",
    "\n",
    "#load the iris dataset\n",
    "iris=datasets.load_iris()\n",
    "X=iris.data\n",
    "y=iris.target\n",
    "#split the data into training and testing sets(80% training,20% testing)\n",
    "X_train,X_test,y_train,y_test=train_test_split(X,y,test_size=0.2,random_state=42)\n",
    "\n",
    "#create a Gaussian Naive Bayes classifier\n",
    "nb_classifier=GaussianNB()\n",
    "\n",
    "#Train the classifier using the train data\n",
    "nb_classifier.fit(X_train,y_train)\n",
    "\n",
    "#make predictions on the testing data\n",
    "y_pred=nb_classifier.predict(X_test)\n",
    "\n",
    "#consusion matrix\n",
    "res=confusion_matrix(y_test,y_pred)\n",
    "print(\"confusion_matrix \\n\",res)\n",
    "\n",
    "#classification report\n",
    "res1=classification_report(y_test,y_pred)\n",
    "print(\"Classification_report \\n\",res1)\n",
    "\n",
    "#calculate the accuracy of the classifier\n",
    "accuracy=accuracy_score(y_test,y_pred)\n",
    "print(\"Accuracy:\\n\",accuracy)\n",
    "# print(f\"Accuracy: {accuracy*100:.2f}%\")"
   ]
  },
  {
   "cell_type": "code",
   "execution_count": 12,
   "id": "cf0be384",
   "metadata": {},
   "outputs": [
    {
     "name": "stdout",
     "output_type": "stream",
     "text": [
      "[0]\n",
      "1.0\n"
     ]
    }
   ],
   "source": [
    "import numpy as np \n",
    "import pandas as pd\n",
    "from sklearn.datasets import load_iris\n",
    "from sklearn.model_selection import train_test_split \n",
    "from sklearn.naive_bayes import GaussianNB\n",
    "from sklearn.metrics import accuracy_score\n",
    "from sklearn.preprocessing import LabelEncoder\n",
    "\n",
    "data = pd.read_csv('food.csv')\n",
    "X = data.iloc[:, :3]\n",
    "# print(X)\n",
    "y= data.iloc[:, 3]\n",
    "\n",
    "le = LabelEncoder()\n",
    "categorical_columns = ['Ingredient']  \n",
    "for col in categorical_columns:\n",
    "    X[col] = le.fit_transform(X[col])\n",
    "y = le.fit_transform(y)\n",
    "\n",
    "\n",
    "X_train,X_test,y_train,y_test = train_test_split(X,y,test_size=0.2,random_state=42)\n",
    "knn = GaussianNB()\n",
    "knn.fit(X_train,y_train)\n",
    "y_pred = knn.predict(X_test)\n",
    "sample=[[1,10,9]]\n",
    "k=knn.predict(sample)\n",
    "print(k)\n",
    "accuracy = accuracy_score(y_test,y_pred)\n",
    "print(accuracy)\n"
   ]
  },
  {
   "cell_type": "code",
   "execution_count": 10,
   "id": "436bc2dc",
   "metadata": {},
   "outputs": [
    {
     "name": "stdout",
     "output_type": "stream",
     "text": [
      "[0]\n",
      "1.0\n"
     ]
    }
   ],
   "source": [
    "import numpy as np \n",
    "import pandas as pd\n",
    "from sklearn.datasets import load_iris\n",
    "from sklearn.model_selection import train_test_split \n",
    "from sklearn.naive_bayes import GaussianNB\n",
    "from sklearn.metrics import accuracy_score\n",
    "from sklearn.preprocessing import LabelEncoder\n",
    "\n",
    "data = pd.read_csv('food.csv')\n",
    "X = data.iloc[:, :3]\n",
    "# print(X)\n",
    "y= data.iloc[:, 3]\n",
    "\n",
    "le = LabelEncoder()\n",
    "categorical_columns = ['Ingredient']  \n",
    "for col in categorical_columns:\n",
    "    X[col] = le.fit_transform(X[col])\n",
    "y = le.fit_transform(y)\n",
    "\n",
    "\n",
    "X_train,X_test,y_train,y_test = train_test_split(X,y,test_size=0.2,random_state=42)\n",
    "knn = GaussianNB()\n",
    "knn.fit(X_train,y_train)\n",
    "y_pred = knn.predict(X_test)\n",
    "\n",
    "sample=[[1,10,9]]\n",
    "k=knn.predict(sample)\n",
    "print(k)\n",
    "accuracy = accuracy_score(y_test,y_pred)\n",
    "print(accuracy)"
   ]
  },
  {
   "cell_type": "code",
   "execution_count": null,
   "id": "adc0edc1",
   "metadata": {},
   "outputs": [],
   "source": []
  }
 ],
 "metadata": {
  "kernelspec": {
   "display_name": "Python 3",
   "language": "python",
   "name": "python3"
  },
  "language_info": {
   "codemirror_mode": {
    "name": "ipython",
    "version": 3
   },
   "file_extension": ".py",
   "mimetype": "text/x-python",
   "name": "python",
   "nbconvert_exporter": "python",
   "pygments_lexer": "ipython3",
   "version": "3.8.8"
  }
 },
 "nbformat": 4,
 "nbformat_minor": 5
}
