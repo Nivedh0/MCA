{
 "cells": [
  {
   "cell_type": "code",
   "execution_count": 4,
   "id": "364e6497",
   "metadata": {},
   "outputs": [
    {
     "data": {
      "text/plain": [
       "0.9298383424635569"
      ]
     },
     "execution_count": 4,
     "metadata": {},
     "output_type": "execute_result"
    }
   ],
   "source": [
    "#import files\n",
    "import matplotlib.pyplot as plt\n",
    "from sklearn.linear_model import LinearRegression\n",
    "from sklearn.datasets import load_iris\n",
    "from sklearn.model_selection import train_test_split\n",
    "\n",
    "# load dataset and sort as train and test data\n",
    "data=load_iris()\n",
    "x,y=data.data,data.target\n",
    "x_train,x_test,y_train,y_test=train_test_split(x,y,test_size=2)\n",
    "\n",
    "# fit data using object\n",
    "linreg = LinearRegression()\n",
    "linreg.fit(x_train, y_train)\n",
    "\n",
    "# calculate score\n",
    "linreg.score(x_train,y_train)\n"
   ]
  },
  {
   "cell_type": "code",
   "execution_count": 3,
   "id": "a1d42636",
   "metadata": {},
   "outputs": [
    {
     "data": {
      "text/plain": [
       "array([1.46457535, 0.99854738])"
      ]
     },
     "execution_count": 3,
     "metadata": {},
     "output_type": "execute_result"
    }
   ],
   "source": [
    "linreg.predict(x_test)"
   ]
  },
  {
   "cell_type": "code",
   "execution_count": 5,
   "id": "aebf8150",
   "metadata": {},
   "outputs": [
    {
     "data": {
      "text/plain": [
       "[<matplotlib.lines.Line2D at 0x1ae67d77640>,\n",
       " <matplotlib.lines.Line2D at 0x1ae67d77700>,\n",
       " <matplotlib.lines.Line2D at 0x1ae67d777c0>,\n",
       " <matplotlib.lines.Line2D at 0x1ae67d77880>]"
      ]
     },
     "execution_count": 5,
     "metadata": {},
     "output_type": "execute_result"
    },
    {
     "data": {
      "image/png": "[encoded data removed]",
      "text/plain": [
       "<Figure size 432x288 with 1 Axes>"
      ]
     },
     "metadata": {
      "needs_background": "light"
     },
     "output_type": "display_data"
    }
   ],
   "source": [
    "plt.plot(x_test, y_test)"
   ]
  },
  {
   "cell_type": "code",
   "execution_count": 9,
   "id": "b874c80f",
   "metadata": {},
   "outputs": [
    {
     "name": "stdout",
     "output_type": "stream",
     "text": [
      "Linear Regression MSE: 0.03711379440797687\n"
     ]
    }
   ],
   "source": [
    "import numpy as np\n",
    "import pandas as pd\n",
    "from sklearn.datasets import load_iris\n",
    "from sklearn.model_selection import train_test_split\n",
    "from sklearn.linear_model import LinearRegression\n",
    "from sklearn.metrics import mean_squared_error\n",
    "\n",
    "data = load_iris()\n",
    "X=data.data\n",
    "y=data.target\n",
    "\n",
    "X_train,X_test,y_train,y_test=train_test_split(X,y,test_size=0.2,random_state=42)\n",
    "\n",
    "#linear Regression\n",
    "lr_model=LinearRegression()\n",
    "lr_model.fit(X_train,y_train)\n",
    "lr_predictions=lr_model.predict(X_test)\n",
    "lr_mse=mean_squared_error(y_test,lr_predictions)\n",
    "\n",
    "#print the Mean Squared Error(MSE) for Linear Regression\n",
    "print(f'Linear Regression MSE: {lr_mse}')"
   ]
  },
  {
   "cell_type": "code",
   "execution_count": 5,
   "id": "5807084c",
   "metadata": {},
   "outputs": [
    {
     "name": "stdout",
     "output_type": "stream",
     "text": [
      "Multiple Linear Regression MSE: 0.1979546681395589\n"
     ]
    }
   ],
   "source": [
    "import numpy as np\n",
    "import pandas as pd\n",
    "from sklearn.datasets import load_iris\n",
    "from sklearn.model_selection import train_test_split\n",
    "from sklearn.linear_model import LinearRegression\n",
    "from sklearn.metrics import mean_squared_error\n",
    "\n",
    "data = load_iris()\n",
    "X=data.data[:,0].reshape(-1,1)\n",
    "y=data.target\n",
    "\n",
    "X_train,X_test,y_train,y_test=train_test_split(X,y,test_size=0.2,random_state=42)\n",
    "\n",
    "#Multiple linear Regression\n",
    "mlr_model=LinearRegression()\n",
    "mlr_model.fit(X_train,y_train)\n",
    "mlr_predictions=mlr_model.predict(X_test)\n",
    "mlr_mse=mean_squared_error(y_test,mlr_predictions)\n",
    "\n",
    "#print the Mean Squared Error(MSE) for Linear Regression\n",
    "print(f'Multiple Linear Regression MSE: {mlr_mse}')"
   ]
  },
  {
   "cell_type": "code",
   "execution_count": 20,
   "id": "3ccbba6f",
   "metadata": {},
   "outputs": [
    {
     "name": "stdout",
     "output_type": "stream",
     "text": [
      "Multiple Linear Regression MSE: 0.49415718905821837\n"
     ]
    }
   ],
   "source": [
    "import numpy as np \n",
    "import pandas as pd\n",
    "from sklearn.datasets import load_iris\n",
    "from sklearn.model_selection import train_test_split \n",
    "from sklearn.linear_model import LinearRegression\n",
    "from sklearn.metrics import mean_squared_error\n",
    "from sklearn.metrics import accuracy_score\n",
    "from sklearn.preprocessing import LabelEncoder\n",
    "\n",
    "data = pd.read_csv('food.csv')\n",
    "X = data.iloc[:, :3]\n",
    "# print(X)\n",
    "y= data.iloc[:, 3]\n",
    "\n",
    "le = LabelEncoder()\n",
    "categorical_columns = ['Ingredient']  \n",
    "for col in categorical_columns:\n",
    "    X[col] = le.fit_transform(X[col])\n",
    "y = le.fit_transform(y)\n",
    "\n",
    "X_train,X_test,y_train,y_test=train_test_split(X,y,test_size=0.2,random_state=42)\n",
    "\n",
    "#Multiple linear Regression\n",
    "mlr_model=LinearRegression()\n",
    "mlr_model.fit(X_train,y_train)\n",
    "mlr_predictions=mlr_model.predict(X_test)\n",
    "mlr_mse=mean_squared_error(y_test,mlr_predictions)\n",
    "\n",
    "#print the Mean Squared Error(MSE) for Linear Regression\n",
    "print(f'Multiple Linear Regression MSE: {mlr_mse}')"
   ]
  },
  {
   "cell_type": "code",
   "execution_count": 13,
   "id": "3112a5c4",
   "metadata": {},
   "outputs": [
    {
     "name": "stdout",
     "output_type": "stream",
     "text": [
      "Multiple Linear Regression MSE: 0.49415718905821837\n"
     ]
    }
   ],
   "source": [
    "import numpy as np \n",
    "import pandas as pd\n",
    "from sklearn.model_selection import train_test_split \n",
    "from sklearn.linear_model import LinearRegression\n",
    "from sklearn.metrics import mean_squared_error\n",
    "from sklearn.preprocessing import LabelEncoder\n",
    "\n",
    "# Load the dataset\n",
    "data = pd.read_csv('food.csv')\n",
    "\n",
    "# Select the features (assuming the first three columns are features)\n",
    "X = data.iloc[:, :-1]  # All columns except the last one as features\n",
    "y = data.iloc[:, -1]   # The last column as the target (ensure this is numeric)\n",
    "\n",
    "le = LabelEncoder()\n",
    "categorical_columns = ['Ingredient']  \n",
    "for col in categorical_columns:\n",
    "    X[col] = le.fit_transform(X[col])\n",
    "y = le.fit_transform(y)\n",
    "\n",
    "X_train,X_test,y_train,y_test=train_test_split(X,y,test_size=0.2,random_state=42)\n",
    "\n",
    "#Multiple linear Regression\n",
    "mlr_model=LinearRegression()\n",
    "mlr_model.fit(X_train,y_train)\n",
    "mlr_predictions=mlr_model.predict(X_test)\n",
    "mlr_mse=mean_squared_error(y_test,mlr_predictions)\n",
    "\n",
    "#print the Mean Squared Error(MSE) for Linear Regression\n",
    "print(f'Multiple Linear Regression MSE: {mlr_mse}')\n"
   ]
  },
  {
   "cell_type": "code",
   "execution_count": null,
   "id": "73818c3b",
   "metadata": {},
   "outputs": [],
   "source": []
  }
 ],
 "metadata": {
  "kernelspec": {
   "display_name": "Python 3",
   "language": "python",
   "name": "python3"
  },
  "language_info": {
   "codemirror_mode": {
    "name": "ipython",
    "version": 3
   },
   "file_extension": ".py",
   "mimetype": "text/x-python",
   "name": "python",
   "nbconvert_exporter": "python",
   "pygments_lexer": "ipython3",
   "version": "3.8.8"
  }
 },
 "nbformat": 4,
 "nbformat_minor": 5
}
