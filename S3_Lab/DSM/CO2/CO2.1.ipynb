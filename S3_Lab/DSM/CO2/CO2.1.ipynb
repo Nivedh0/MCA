{
 "cells": [
  {
   "cell_type": "code",
   "execution_count": 42,
   "id": "a30317e8",
   "metadata": {},
   "outputs": [
    {
     "name": "stdout",
     "output_type": "stream",
     "text": [
      "Accuracy of k-NN with k=3: 1.000000\n"
     ]
    }
   ],
   "source": [
    "import numpy as np \n",
    "from sklearn.datasets import load_iris\n",
    "from sklearn.model_selection import train_test_split \n",
    "from sklearn.neighbors import KNeighborsClassifier\n",
    "from sklearn.metrics import accuracy_score\n",
    "data = load_iris()\n",
    "X = data.data\n",
    "y= data.target\n",
    "X_train,X_test,y_train,y_test = train_test_split(X,y,test_size=0.2,random_state=42)\n",
    "k=3 \n",
    "knn = KNeighborsClassifier(n_neighbors=k)\n",
    "knn.fit(X_train,y_train)\n",
    "y_pred = knn.predict(X_test)\n",
    "accuracy = accuracy_score(y_test,y_pred)\n",
    "print(f'Accuracy of k-NN with k={k}: {accuracy:2f}')"
   ]
  },
  {
   "cell_type": "code",
   "execution_count": 22,
   "id": "d271d77b",
   "metadata": {},
   "outputs": [
    {
     "name": "stdout",
     "output_type": "stream",
     "text": [
      "Accuracy of k-NN with k=3:0.93\n"
     ]
    }
   ],
   "source": [
    "import numpy as np\n",
    "from sklearn.datasets import load_breast_cancer\n",
    "from sklearn.model_selection import train_test_split\n",
    "from sklearn.neighbors import KNeighborsClassifier\n",
    "from sklearn.metrics import accuracy_score\n",
    "from sklearn.preprocessing import LabelEncoder\n",
    "from sklearn.preprocessing import LabelEncoder\n",
    "\n",
    "\n",
    "#Load the Iris dataset\n",
    "data=load_breast_cancer()\n",
    "X=data.data #Features\n",
    "y=data.target #Target(labels)\n",
    "\n",
    "#Split the dataset into training and testing sets\n",
    "X_train,X_test,y_train,y_test=train_test_split(X,y,test_size=0.2,random_state=42)\n",
    "\n",
    "#Initialize the k-NN classifier with a specified value of k\n",
    "k=3 #You can change this value as needed\n",
    "knn=KNeighborsClassifier(n_neighbors=k)\n",
    "\n",
    "#Fit the model on the training data\n",
    "knn.fit(X_train,y_train)\n",
    "\n",
    "#Make predictions on the test data\n",
    "y_pred=knn.predict(X_test)\n",
    "\n",
    "#Calculate the accuracy of the model\n",
    "accuracy=accuracy_score(y_test,y_pred)\n",
    "print(f'Accuracy of k-NN with k={k}:{accuracy:.2f}')"
   ]
  },
  {
   "cell_type": "code",
   "execution_count": 5,
   "id": "3651238a",
   "metadata": {},
   "outputs": [
    {
     "name": "stdout",
     "output_type": "stream",
     "text": [
      "[2]\n",
      "0.3333333333333333\n"
     ]
    }
   ],
   "source": [
    "import numpy as np \n",
    "import pandas as pd\n",
    "from sklearn.datasets import load_iris\n",
    "from sklearn.model_selection import train_test_split \n",
    "from sklearn.neighbors import KNeighborsClassifier\n",
    "from sklearn.metrics import accuracy_score\n",
    "from sklearn.preprocessing import LabelEncoder\n",
    "\n",
    "data = pd.read_csv('food.csv')\n",
    "X = data.iloc[:, :3]\n",
    "# print(X)\n",
    "y= data.iloc[:, 3]\n",
    "\n",
    "le = LabelEncoder()\n",
    "categorical_columns = ['Ingredient']  \n",
    "for col in categorical_columns:\n",
    "    X[col] = le.fit_transform(X[col])\n",
    "y = le.fit_transform(y)\n",
    "\n",
    "\n",
    "X_train,X_test,y_train,y_test = train_test_split(X,y,test_size=0.2,random_state=42)\n",
    "k=3\n",
    "knn = KNeighborsClassifier(n_neighbors=k)\n",
    "knn.fit(X_train,y_train)\n",
    "y_pred = knn.predict(X_test)\n",
    "\n",
    "sample=[[1,10,9]]\n",
    "k=knn.predict(sample)\n",
    "print(k)\n",
    "accuracy = accuracy_score(y_test,y_pred)\n",
    "print(accuracy)\n"
   ]
  },
  {
   "cell_type": "code",
   "execution_count": 47,
   "id": "8cd5a367",
   "metadata": {},
   "outputs": [
    {
     "name": "stdout",
     "output_type": "stream",
     "text": [
      "[1]\n",
      "0.6977611940298507\n"
     ]
    }
   ],
   "source": [
    "import numpy as np \n",
    "import pandas as pd\n",
    "from sklearn.datasets import load_iris\n",
    "from sklearn.model_selection import train_test_split \n",
    "from sklearn.neighbors import KNeighborsClassifier\n",
    "from sklearn.metrics import accuracy_score\n",
    "data = pd.read_csv('insurance.csv')\n",
    "X = data.iloc[:, :6]\n",
    "# print(X)\n",
    "y= data.iloc[:, 1]\n",
    "\n",
    "\n",
    "le = LabelEncoder()\n",
    "categorical_columns = ['sex', 'smoker', 'region']  \n",
    "for col in categorical_columns:\n",
    "    X[col] = le.fit_transform(X[col])\n",
    "y = le.fit_transform(y)\n",
    "\n",
    "\n",
    "X_train,X_test,y_train,y_test = train_test_split(X,y,test_size=0.2,random_state=42)\n",
    "k=3\n",
    "knn = KNeighborsClassifier(n_neighbors=k)\n",
    "knn.fit(X_train,y_train)\n",
    "y_pred = knn.predict(X_test)\n",
    "sample=[[1,10,9,11,4,2]]\n",
    "k=knn.predict(sample)\n",
    "print(k)\n",
    "accuracy = accuracy_score(y_test,y_pred)\n",
    "print(accuracy)\n"
   ]
  },
  {
   "cell_type": "code",
   "execution_count": 35,
   "id": "69a0f992",
   "metadata": {},
   "outputs": [
    {
     "name": "stdout",
     "output_type": "stream",
     "text": [
      "[1]\n",
      "1.0\n"
     ]
    }
   ],
   "source": [
    "import numpy as np \n",
    "import pandas as pd\n",
    "from sklearn.datasets import load_iris\n",
    "from sklearn.model_selection import train_test_split \n",
    "from sklearn.neighbors import KNeighborsClassifier\n",
    "from sklearn.metrics import accuracy_score\n",
    "from sklearn.preprocessing import LabelEncoder\n",
    "\n",
    "data = pd.read_csv('cricket.csv')\n",
    "X = data.iloc[:, :5]\n",
    "# print(X)\n",
    "y= data.iloc[:, 4]\n",
    "# print(y)\n",
    "\n",
    "le = LabelEncoder()\n",
    "categorical_columns = ['Outlook','Temp','Humidity','Windy','Play Cricket']  \n",
    "for col in categorical_columns:\n",
    "    X[col] = le.fit_transform(X[col])\n",
    "y = le.fit_transform(y)\n",
    "\n",
    "X_train,X_test,y_train,y_test = train_test_split(X,y,test_size=0.2,random_state=42)\n",
    "k=3\n",
    "knn = KNeighborsClassifier(n_neighbors=k)\n",
    "knn.fit(X_train,y_train)\n",
    "y_pred = knn.predict(X_test)\n",
    "sample=[[1,10,9,11,4]]\n",
    "k=knn.predict(sample)\n",
    "print(k)\n",
    "accuracy = accuracy_score(y_test,y_pred)\n",
    "print(accuracy)\n"
   ]
  },
  {
   "cell_type": "code",
   "execution_count": 21,
   "id": "f25126a2",
   "metadata": {},
   "outputs": [
    {
     "name": "stdout",
     "output_type": "stream",
     "text": [
      "    Outlook  Temp Humidity Windy Play Cricket\n",
      "0     Rainy   Hot     High    No           No\n",
      "1     Rainy   Hot     High   Yes           No\n",
      "2  Overcast   Hot     High    No          Yes\n",
      "3     Sunny  Mild     High    No          Yes\n",
      "4     Sunny  Cool   Normal    No          Yes\n",
      "Features in X:\n",
      "Index(['Temp', 'Humidity', 'Windy', 'Play Cricket'], dtype='object')\n",
      "Accuracy: 0.33\n"
     ]
    },
    {
     "name": "stderr",
     "output_type": "stream",
     "text": [
      "<ipython-input-21-6a87b89ad5b6>:33: SettingWithCopyWarning: \n",
      "A value is trying to be set on a copy of a slice from a DataFrame.\n",
      "Try using .loc[row_indexer,col_indexer] = value instead\n",
      "\n",
      "See the caveats in the documentation: https://pandas.pydata.org/pandas-docs/stable/user_guide/indexing.html#returning-a-view-versus-a-copy\n",
      "  X[col] = le.fit_transform(X[col])\n"
     ]
    }
   ],
   "source": [
    "import numpy as np \n",
    "import pandas as pd\n",
    "from sklearn.model_selection import train_test_split \n",
    "from sklearn.neighbors import KNeighborsClassifier\n",
    "from sklearn.metrics import accuracy_score\n",
    "from sklearn.preprocessing import LabelEncoder\n",
    "\n",
    "# Load the dataset\n",
    "data = pd.read_csv('cricket.csv')\n",
    "\n",
    "# Inspect the data to understand its structure\n",
    "print(data.head())\n",
    "\n",
    "# Select feature columns (X) and target column (y)\n",
    "X = data.iloc[:, 1:6]  # Assuming columns 1-6 are features (excluding target)\n",
    "y = data.iloc[:, 0]    # Assuming the first column is the target\n",
    "\n",
    "# Inspect the columns to check for categorical variables\n",
    "print(\"Features in X:\")\n",
    "print(X.columns)\n",
    "\n",
    "# Initialize LabelEncoder\n",
    "le = LabelEncoder()\n",
    "\n",
    "# Encode categorical columns (only those with string values)\n",
    "# For example, let's say columns 'Hot', 'Mild', and 'Cool' are in X and need encoding.\n",
    "# Update categorical_columns with actual column names that need encoding.\n",
    "categorical_columns = ['Temp', 'Humidity', 'Windy', 'Play Cricket']  # These should be actual column names in your data\n",
    "\n",
    "# Apply label encoding only to categorical columns\n",
    "for col in categorical_columns:\n",
    "    if col in X.columns:\n",
    "        X[col] = le.fit_transform(X[col])\n",
    "\n",
    "# If y is categorical (e.g., string labels), apply LabelEncoder to the target variable as well\n",
    "y = le.fit_transform(y)\n",
    "\n",
    "# Split the data into training and testing sets (80% training, 20% testing)\n",
    "X_train, X_test, y_train, y_test = train_test_split(X, y, test_size=0.2, random_state=42)\n",
    "\n",
    "# Create and train the k-NN model\n",
    "k = 3\n",
    "knn = KNeighborsClassifier(n_neighbors=k)\n",
    "knn.fit(X_train, y_train)\n",
    "\n",
    "# Make predictions on the test set\n",
    "y_pred = knn.predict(X_test)\n",
    "\n",
    "# Calculate and print the accuracy\n",
    "accuracy = accuracy_score(y_test, y_pred)\n",
    "print(f\"Accuracy: {accuracy:.2f}\")\n"
   ]
  },
  {
   "cell_type": "code",
   "execution_count": null,
   "id": "65837288",
   "metadata": {},
   "outputs": [],
   "source": []
  }
 ],
 "metadata": {
  "kernelspec": {
   "display_name": "Python 3",
   "language": "python",
   "name": "python3"
  },
  "language_info": {
   "codemirror_mode": {
    "name": "ipython",
    "version": 3
   },
   "file_extension": ".py",
   "mimetype": "text/x-python",
   "name": "python",
   "nbconvert_exporter": "python",
   "pygments_lexer": "ipython3",
   "version": "3.8.8"
  }
 },
 "nbformat": 4,
 "nbformat_minor": 5
}
