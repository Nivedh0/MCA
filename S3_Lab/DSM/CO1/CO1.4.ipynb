{
 "cells": [
  {
   "cell_type": "code",
   "execution_count": 1,
   "id": "773fd163",
   "metadata": {},
   "outputs": [
    {
     "name": "stdout",
     "output_type": "stream",
     "text": [
      "0    1\n",
      "1    7\n",
      "2    2\n",
      "dtype: int64\n"
     ]
    }
   ],
   "source": [
    "#Pandas Series from a list\n",
    "\n",
    "import pandas as pd\n",
    "\n",
    "a = [1, 7, 2]\n",
    "\n",
    "myvar = pd.Series(a)\n",
    "\n",
    "print(myvar)"
   ]
  },
  {
   "cell_type": "code",
   "execution_count": 2,
   "id": "b28074c2",
   "metadata": {},
   "outputs": [
    {
     "name": "stdout",
     "output_type": "stream",
     "text": [
      "1\n"
     ]
    }
   ],
   "source": [
    "import pandas as pd\n",
    "\n",
    "a = [1, 7, 2]\n",
    "\n",
    "myvar = pd.Series(a)\n",
    "\n",
    "print(myvar[0])"
   ]
  },
  {
   "cell_type": "code",
   "execution_count": 4,
   "id": "01964310",
   "metadata": {},
   "outputs": [
    {
     "name": "stdout",
     "output_type": "stream",
     "text": [
      "x    1\n",
      "y    7\n",
      "z    2\n",
      "dtype: int64\n",
      "7\n"
     ]
    }
   ],
   "source": [
    "#labels\n",
    "\n",
    "import pandas as pd\n",
    "\n",
    "a = [1, 7, 2]\n",
    "\n",
    "myvar = pd.Series(a, index = [\"x\", \"y\", \"z\"])\n",
    "print(myvar)\n",
    "print(myvar[\"y\"])"
   ]
  },
  {
   "cell_type": "code",
   "execution_count": 5,
   "id": "8850bd21",
   "metadata": {},
   "outputs": [
    {
     "name": "stdout",
     "output_type": "stream",
     "text": [
      "day1    420\n",
      "day2    380\n",
      "day3    390\n",
      "dtype: int64\n"
     ]
    }
   ],
   "source": [
    "#Key/Value Objects as Series\n",
    "\n",
    "import pandas as pd\n",
    "\n",
    "calories = {\"day1\": 420, \"day2\": 380, \"day3\": 390}\n",
    "\n",
    "myvar = pd.Series(calories)\n",
    "\n",
    "print(myvar)"
   ]
  },
  {
   "cell_type": "code",
   "execution_count": 6,
   "id": "0dc686a6",
   "metadata": {},
   "outputs": [
    {
     "name": "stdout",
     "output_type": "stream",
     "text": [
      "   calories  duration\n",
      "0       420        50\n",
      "1       380        40\n",
      "2       390        45\n"
     ]
    }
   ],
   "source": [
    "#DataFrames\n",
    "\n",
    "import pandas as pd\n",
    "\n",
    "data = {\n",
    "  \"calories\": [420, 380, 390],\n",
    "  \"duration\": [50, 40, 45]\n",
    "}\n",
    "\n",
    "#load data into a DataFrame object:\n",
    "df = pd.DataFrame(data)\n",
    "\n",
    "print(df)"
   ]
  },
  {
   "cell_type": "code",
   "execution_count": 7,
   "id": "c5a7c42b",
   "metadata": {},
   "outputs": [
    {
     "name": "stdout",
     "output_type": "stream",
     "text": [
      "  studname mark grade percentage\n",
      "0  nainika  600    a+       100%\n",
      "1    veena  595    a+        98%\n",
      "2   sruthy  598    a+        99%\n",
      "3  lakshmi  343    b+        86%\n"
     ]
    }
   ],
   "source": [
    "import pandas as pd\n",
    "data={\n",
    "    'studname':[\"nainika\",\"veena\",\"sruthy\",\"lakshmi\"],\n",
    "    'mark':[\"600\",\"595\",\"598\",\"343\"],\n",
    "    'grade':[\"a+\",\"a+\",\"a+\",\"b+\"],\n",
    "    'percentage':[\"100%\",\"98%\",\"99%\",\"86%\"]\n",
    "}\n",
    "df=pd.DataFrame(data)\n",
    "print(df)"
   ]
  },
  {
   "cell_type": "code",
   "execution_count": 12,
   "id": "fa2537c9",
   "metadata": {},
   "outputs": [
    {
     "name": "stdout",
     "output_type": "stream",
     "text": [
      "   Duration  Pulse  Maxpulse  Calories Precentage\n",
      "0        60    114       140     415.0        60%\n",
      "1        60    102       127     300.0        60%\n",
      "2        60    100       120     300.0        60%\n",
      "3        60    100       120     300.0        60%\n",
      "4        45    104       129     266.0        45%\n",
      "5        45     90       112     180.1        45%\n",
      "6        60     98       126     286.0        60%\n",
      "7        60    100       122     329.4        60%\n",
      "8        60    111       138     400.0        60%\n"
     ]
    }
   ],
   "source": [
    "import pandas as pd\n",
    "#use any other csv\n",
    "df=pd.read_csv ('data.csv')\n",
    "print(df) "
   ]
  },
  {
   "cell_type": "code",
   "execution_count": 22,
   "id": "78069014",
   "metadata": {},
   "outputs": [
    {
     "name": "stdout",
     "output_type": "stream",
     "text": [
      "   Duration  Pulse  Maxpulse  Calories Precentage\n",
      "0        60    114       140     415.0        60%\n",
      "1        60    102       127     300.0        60%\n",
      "2        60    100       120     300.0        60%\n",
      "3        60    100       120     300.0        60%\n",
      "4        45    104       129     266.0        45%\n"
     ]
    }
   ],
   "source": [
    "import pandas as pd\n",
    "\n",
    "df = pd.read_csv('data.csv')\n",
    "\n",
    "print(df.head())"
   ]
  },
  {
   "cell_type": "code",
   "execution_count": 23,
   "id": "0855a1d9",
   "metadata": {},
   "outputs": [
    {
     "name": "stdout",
     "output_type": "stream",
     "text": [
      "   Duration  Pulse  Maxpulse  Calories Precentage\n",
      "4        45    104       129     266.0        45%\n",
      "5        45     90       112     180.1        45%\n",
      "6        60     98       126     286.0        60%\n",
      "7        60    100       122     329.4        60%\n",
      "8        60    111       138       NaN        60%\n"
     ]
    }
   ],
   "source": [
    "import pandas as pd\n",
    "\n",
    "df = pd.read_csv('data.csv')\n",
    "\n",
    "print(df.tail())"
   ]
  },
  {
   "cell_type": "code",
   "execution_count": 24,
   "id": "f621cbe7",
   "metadata": {},
   "outputs": [
    {
     "name": "stdout",
     "output_type": "stream",
     "text": [
      "   Duration  Pulse  Maxpulse  Calories Precentage\n",
      "0        60    114       140     415.0        60%\n",
      "1        60    102       127     300.0        60%\n"
     ]
    }
   ],
   "source": [
    "# Select and print the first 2 rows\n",
    "print(df.head(2))"
   ]
  },
  {
   "cell_type": "code",
   "execution_count": 25,
   "id": "d38b4a8f",
   "metadata": {},
   "outputs": [
    {
     "name": "stdout",
     "output_type": "stream",
     "text": [
      "   Duration  Pulse  Maxpulse  Calories Precentage\n",
      "0        60    114       140     415.0        60%\n",
      "1        60    102       127     300.0        60%\n"
     ]
    }
   ],
   "source": [
    "# Select and print the first 2 rows\n",
    "print(df[:2])"
   ]
  },
  {
   "cell_type": "code",
   "execution_count": 26,
   "id": "dbfef768",
   "metadata": {},
   "outputs": [
    {
     "name": "stdout",
     "output_type": "stream",
     "text": [
      "Pulse\n",
      "90     180.1\n",
      "98     286.0\n",
      "100    309.8\n",
      "102    300.0\n",
      "104    266.0\n",
      "111      NaN\n",
      "114    415.0\n",
      "Name: Calories, dtype: float64\n"
     ]
    }
   ],
   "source": [
    "# Group by 'pulse' and calculate the mean of 'calories'\n",
    "cal = df.groupby('Pulse')['Calories'].mean()\n",
    "\n",
    "# Print the result\n",
    "print(cal)"
   ]
  },
  {
   "cell_type": "code",
   "execution_count": 27,
   "id": "9da8bec1",
   "metadata": {},
   "outputs": [
    {
     "name": "stdout",
     "output_type": "stream",
     "text": [
      "   60  114  140    415  60%\n",
      "   60  102  127    300  60%\n",
      "0  60  100  120  300.0  60%\n",
      "1  60  100  120  300.0  60%\n",
      "2  45  104  129  266.0  45%\n",
      "3  45   90  112  180.1  45%\n",
      "4  60   98  126  286.0  60%\n",
      "5  60  100  122  329.4  60%\n",
      "6  60  111  138    NaN  60%\n"
     ]
    }
   ],
   "source": [
    "import pandas as pd\n",
    "df=pd.read_csv('data.csv',header=[1,2]) \n",
    "#The row at index 1 will be treated as the first level of the column header.\n",
    "#The row at index 2 will be treated as the second level of the column header.\n",
    "print(df)"
   ]
  },
  {
   "cell_type": "code",
   "execution_count": 28,
   "id": "b83a5bf4",
   "metadata": {},
   "outputs": [
    {
     "name": "stdout",
     "output_type": "stream",
     "text": [
      "   Duration  Pulse  Maxpulse  Calories Precentage\n",
      "0        60    114       140     415.0        60%\n",
      "1        60    102       127     300.0        60%\n",
      "2        60    100       120     300.0        60%\n",
      "3        60    100       120     300.0        60%\n",
      "4        45    104       129     266.0        45%\n",
      "5        45     90       112     180.1        45%\n",
      "6        60     98       126     286.0        60%\n",
      "7        60    100       122     329.4        60%\n"
     ]
    }
   ],
   "source": [
    "import pandas as pd\n",
    "df=pd.read_csv('data.csv')\n",
    "new=df.dropna()# Drop rows with any missing values\n",
    "print(new.to_string())"
   ]
  },
  {
   "cell_type": "code",
   "execution_count": 29,
   "id": "533d2e9e",
   "metadata": {},
   "outputs": [
    {
     "data": {
      "image/png": "[encoded data removed]",
      "text/plain": [
       "<Figure size 432x288 with 1 Axes>"
      ]
     },
     "metadata": {
      "needs_background": "light"
     },
     "output_type": "display_data"
    }
   ],
   "source": [
    "import pandas as pd\n",
    "import matplotlib.pyplot as plt\n",
    "df=pd.read_csv('data.csv',header=[1,2])\n",
    "df.plot()\n",
    "plt.show()"
   ]
  },
  {
   "cell_type": "code",
   "execution_count": 32,
   "id": "38f211d0",
   "metadata": {},
   "outputs": [
    {
     "name": "stdout",
     "output_type": "stream",
     "text": [
      "   Duration  Pulse  Maxpulse  Calories Precentage\n",
      "0        60    114       140     415.0        60%\n",
      "1        60    102       127     300.0        60%\n",
      "2        60    100       120     300.0        60%\n",
      "3        60    100       120     300.0        60%\n",
      "4        45    104       129     266.0        45%\n",
      "5        45     90       112     180.1        45%\n",
      "6        60     98       126     286.0        60%\n",
      "7        60    100       122     329.4        60%\n"
     ]
    },
    {
     "data": {
      "text/plain": [
       "<AxesSubplot:>"
      ]
     },
     "execution_count": 32,
     "metadata": {},
     "output_type": "execute_result"
    },
    {
     "data": {
      "image/png": "[encoded data removed]",
      "text/plain": [
       "<Figure size 432x288 with 1 Axes>"
      ]
     },
     "metadata": {
      "needs_background": "light"
     },
     "output_type": "display_data"
    }
   ],
   "source": [
    "import pandas as pd\n",
    "\n",
    "df = pd.read_csv('data.csv')\n",
    "\n",
    "df.dropna(inplace = True)\n",
    "\n",
    "print(df.to_string())\n",
    "df.plot()"
   ]
  },
  {
   "cell_type": "code",
   "execution_count": null,
   "id": "a54acfd9",
   "metadata": {},
   "outputs": [],
   "source": []
  }
 ],
 "metadata": {
  "kernelspec": {
   "display_name": "Python 3",
   "language": "python",
   "name": "python3"
  },
  "language_info": {
   "codemirror_mode": {
    "name": "ipython",
    "version": 3
   },
   "file_extension": ".py",
   "mimetype": "text/x-python",
   "name": "python",
   "nbconvert_exporter": "python",
   "pygments_lexer": "ipython3",
   "version": "3.8.8"
  }
 },
 "nbformat": 4,
 "nbformat_minor": 5
}
